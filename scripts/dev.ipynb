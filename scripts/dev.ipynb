{
 "cells": [
  {
   "cell_type": "markdown",
   "source": [
    "# Testing and developing\n",
    "\n",
    "## Tools - Corsano"
   ],
   "metadata": {
    "collapsed": false
   }
  },
  {
   "cell_type": "code",
   "execution_count": 4,
   "outputs": [
    {
     "name": "stdout",
     "output_type": "stream",
     "text": [
      "The autoreload extension is already loaded. To reload it, use:\n",
      "  %reload_ext autoreload\n"
     ]
    }
   ],
   "source": [
    "# automatically reload modules when they have changed\n",
    "%load_ext autoreload\n",
    "%autoreload 2\n",
    "\n",
    "from tools import corsano\n",
    "import pandas as pd\n",
    "import toml\n",
    "\n",
    "secrets_file = '../.streamlit/secrets.toml'\n",
    "with open(secrets_file) as f:\n",
    "    secrets = toml.load(f)"
   ],
   "metadata": {
    "collapsed": false
   }
  },
  {
   "cell_type": "code",
   "execution_count": 44,
   "outputs": [
    {
     "name": "stdout",
     "output_type": "stream",
     "text": [
      "None\n"
     ]
    }
   ],
   "source": [
    "uapi, hapi, error = corsano.init_with_login('wehs@zhaw.ch', 'Study75!')\n",
    "print(error)"
   ],
   "metadata": {
    "collapsed": false
   }
  },
  {
   "cell_type": "code",
   "execution_count": 48,
   "outputs": [
    {
     "data": {
      "text/plain": "         date  active_minutes  calories  daily_percent    distance  \\\n0  2023-02-16              53      1189             69  5138.54300   \n1  2023-02-17               1       711              2  1172.23100   \n2  2023-02-18               3      1630              2   191.59920   \n3  2023-02-19               0      1602              0     0.00000   \n4  2023-02-20               0      1602              0     0.00000   \n5  2023-02-21               0      1602              0     0.00000   \n6  2023-02-22               0      1602              0     0.00000   \n7  2023-02-23               0      1602              0     0.00000   \n8  2023-02-24               0      1602              0     0.00000   \n9  2023-02-25               0      1607              0    12.52764   \n\n   move_every_hour total_glasses  total_steps  workouts  \n0                0          None         6973         0  \n1                0          None          256         2  \n2                0          None          260         2  \n3                0          None            0         0  \n4                0          None            0         0  \n5                0          None            0         0  \n6                0          None            0         0  \n7                0          None            0         0  \n8                0          None            0         0  \n9                0          None           17         0  ",
      "text/html": "<div>\n<style scoped>\n    .dataframe tbody tr th:only-of-type {\n        vertical-align: middle;\n    }\n\n    .dataframe tbody tr th {\n        vertical-align: top;\n    }\n\n    .dataframe thead th {\n        text-align: right;\n    }\n</style>\n<table border=\"1\" class=\"dataframe\">\n  <thead>\n    <tr style=\"text-align: right;\">\n      <th></th>\n      <th>date</th>\n      <th>active_minutes</th>\n      <th>calories</th>\n      <th>daily_percent</th>\n      <th>distance</th>\n      <th>move_every_hour</th>\n      <th>total_glasses</th>\n      <th>total_steps</th>\n      <th>workouts</th>\n    </tr>\n  </thead>\n  <tbody>\n    <tr>\n      <th>0</th>\n      <td>2023-02-16</td>\n      <td>53</td>\n      <td>1189</td>\n      <td>69</td>\n      <td>5138.54300</td>\n      <td>0</td>\n      <td>None</td>\n      <td>6973</td>\n      <td>0</td>\n    </tr>\n    <tr>\n      <th>1</th>\n      <td>2023-02-17</td>\n      <td>1</td>\n      <td>711</td>\n      <td>2</td>\n      <td>1172.23100</td>\n      <td>0</td>\n      <td>None</td>\n      <td>256</td>\n      <td>2</td>\n    </tr>\n    <tr>\n      <th>2</th>\n      <td>2023-02-18</td>\n      <td>3</td>\n      <td>1630</td>\n      <td>2</td>\n      <td>191.59920</td>\n      <td>0</td>\n      <td>None</td>\n      <td>260</td>\n      <td>2</td>\n    </tr>\n    <tr>\n      <th>3</th>\n      <td>2023-02-19</td>\n      <td>0</td>\n      <td>1602</td>\n      <td>0</td>\n      <td>0.00000</td>\n      <td>0</td>\n      <td>None</td>\n      <td>0</td>\n      <td>0</td>\n    </tr>\n    <tr>\n      <th>4</th>\n      <td>2023-02-20</td>\n      <td>0</td>\n      <td>1602</td>\n      <td>0</td>\n      <td>0.00000</td>\n      <td>0</td>\n      <td>None</td>\n      <td>0</td>\n      <td>0</td>\n    </tr>\n    <tr>\n      <th>5</th>\n      <td>2023-02-21</td>\n      <td>0</td>\n      <td>1602</td>\n      <td>0</td>\n      <td>0.00000</td>\n      <td>0</td>\n      <td>None</td>\n      <td>0</td>\n      <td>0</td>\n    </tr>\n    <tr>\n      <th>6</th>\n      <td>2023-02-22</td>\n      <td>0</td>\n      <td>1602</td>\n      <td>0</td>\n      <td>0.00000</td>\n      <td>0</td>\n      <td>None</td>\n      <td>0</td>\n      <td>0</td>\n    </tr>\n    <tr>\n      <th>7</th>\n      <td>2023-02-23</td>\n      <td>0</td>\n      <td>1602</td>\n      <td>0</td>\n      <td>0.00000</td>\n      <td>0</td>\n      <td>None</td>\n      <td>0</td>\n      <td>0</td>\n    </tr>\n    <tr>\n      <th>8</th>\n      <td>2023-02-24</td>\n      <td>0</td>\n      <td>1602</td>\n      <td>0</td>\n      <td>0.00000</td>\n      <td>0</td>\n      <td>None</td>\n      <td>0</td>\n      <td>0</td>\n    </tr>\n    <tr>\n      <th>9</th>\n      <td>2023-02-25</td>\n      <td>0</td>\n      <td>1607</td>\n      <td>0</td>\n      <td>12.52764</td>\n      <td>0</td>\n      <td>None</td>\n      <td>17</td>\n      <td>0</td>\n    </tr>\n  </tbody>\n</table>\n</div>"
     },
     "execution_count": 48,
     "metadata": {},
     "output_type": "execute_result"
    }
   ],
   "source": [
    "res = hapi.get_data(150,'activity')\n",
    "pd.DataFrame(res)"
   ],
   "metadata": {
    "collapsed": false
   }
  },
  {
   "cell_type": "code",
   "execution_count": 47,
   "outputs": [
    {
     "data": {
      "text/plain": "         date  avg_daily_heart_rate  max_daily_heart_rate  \\\n0  2023-02-16                    78                   112   \n1  2023-02-17                    78                   167   \n2  2023-02-18                   116                   117   \n3  2023-02-19                     0                     0   \n4  2023-02-20                     0                     0   \n5  2023-02-21                     0                     0   \n6  2023-02-22                     0                     0   \n7  2023-02-23                     0                     0   \n8  2023-02-24                     0                     0   \n9  2023-02-25                   127                   156   \n\n   rest_daily_heart_rate  daily_percent  all_time  max_time  performance_time  \\\n0                     55              0       144         0                 0   \n1                     55              0        16         0                 0   \n2                    115              0         2         0                 0   \n3                      0              0         0         0                 0   \n4                      0              0         0         0                 0   \n5                      0              0         0         0                 0   \n6                      0              0         0         0                 0   \n7                      0              0         0         0                 0   \n8                      0              0         0         0                 0   \n9                     93              0        13         1                 6   \n\n   endurance_time  fat_burn_time  warm_up_time  rest_time  \\\n0               0              7            34        102   \n1               0              2             5          7   \n2               0              1             0          0   \n3               0              0             0          0   \n4               0              0             0          0   \n5               0              0             0          0   \n6               0              0             0          0   \n7               0              0             0          0   \n8               0              0             0          0   \n9               2              1             1          0   \n\n   avg_daily_heat_rate  max_daily_heat_rate  rest_daily_heat_rate  \n0                   78                  112                    55  \n1                   78                  167                    55  \n2                  116                  117                   115  \n3                    0                    0                     0  \n4                    0                    0                     0  \n5                    0                    0                     0  \n6                    0                    0                     0  \n7                    0                    0                     0  \n8                    0                    0                     0  \n9                  127                  156                    93  ",
      "text/html": "<div>\n<style scoped>\n    .dataframe tbody tr th:only-of-type {\n        vertical-align: middle;\n    }\n\n    .dataframe tbody tr th {\n        vertical-align: top;\n    }\n\n    .dataframe thead th {\n        text-align: right;\n    }\n</style>\n<table border=\"1\" class=\"dataframe\">\n  <thead>\n    <tr style=\"text-align: right;\">\n      <th></th>\n      <th>date</th>\n      <th>avg_daily_heart_rate</th>\n      <th>max_daily_heart_rate</th>\n      <th>rest_daily_heart_rate</th>\n      <th>daily_percent</th>\n      <th>all_time</th>\n      <th>max_time</th>\n      <th>performance_time</th>\n      <th>endurance_time</th>\n      <th>fat_burn_time</th>\n      <th>warm_up_time</th>\n      <th>rest_time</th>\n      <th>avg_daily_heat_rate</th>\n      <th>max_daily_heat_rate</th>\n      <th>rest_daily_heat_rate</th>\n    </tr>\n  </thead>\n  <tbody>\n    <tr>\n      <th>0</th>\n      <td>2023-02-16</td>\n      <td>78</td>\n      <td>112</td>\n      <td>55</td>\n      <td>0</td>\n      <td>144</td>\n      <td>0</td>\n      <td>0</td>\n      <td>0</td>\n      <td>7</td>\n      <td>34</td>\n      <td>102</td>\n      <td>78</td>\n      <td>112</td>\n      <td>55</td>\n    </tr>\n    <tr>\n      <th>1</th>\n      <td>2023-02-17</td>\n      <td>78</td>\n      <td>167</td>\n      <td>55</td>\n      <td>0</td>\n      <td>16</td>\n      <td>0</td>\n      <td>0</td>\n      <td>0</td>\n      <td>2</td>\n      <td>5</td>\n      <td>7</td>\n      <td>78</td>\n      <td>167</td>\n      <td>55</td>\n    </tr>\n    <tr>\n      <th>2</th>\n      <td>2023-02-18</td>\n      <td>116</td>\n      <td>117</td>\n      <td>115</td>\n      <td>0</td>\n      <td>2</td>\n      <td>0</td>\n      <td>0</td>\n      <td>0</td>\n      <td>1</td>\n      <td>0</td>\n      <td>0</td>\n      <td>116</td>\n      <td>117</td>\n      <td>115</td>\n    </tr>\n    <tr>\n      <th>3</th>\n      <td>2023-02-19</td>\n      <td>0</td>\n      <td>0</td>\n      <td>0</td>\n      <td>0</td>\n      <td>0</td>\n      <td>0</td>\n      <td>0</td>\n      <td>0</td>\n      <td>0</td>\n      <td>0</td>\n      <td>0</td>\n      <td>0</td>\n      <td>0</td>\n      <td>0</td>\n    </tr>\n    <tr>\n      <th>4</th>\n      <td>2023-02-20</td>\n      <td>0</td>\n      <td>0</td>\n      <td>0</td>\n      <td>0</td>\n      <td>0</td>\n      <td>0</td>\n      <td>0</td>\n      <td>0</td>\n      <td>0</td>\n      <td>0</td>\n      <td>0</td>\n      <td>0</td>\n      <td>0</td>\n      <td>0</td>\n    </tr>\n    <tr>\n      <th>5</th>\n      <td>2023-02-21</td>\n      <td>0</td>\n      <td>0</td>\n      <td>0</td>\n      <td>0</td>\n      <td>0</td>\n      <td>0</td>\n      <td>0</td>\n      <td>0</td>\n      <td>0</td>\n      <td>0</td>\n      <td>0</td>\n      <td>0</td>\n      <td>0</td>\n      <td>0</td>\n    </tr>\n    <tr>\n      <th>6</th>\n      <td>2023-02-22</td>\n      <td>0</td>\n      <td>0</td>\n      <td>0</td>\n      <td>0</td>\n      <td>0</td>\n      <td>0</td>\n      <td>0</td>\n      <td>0</td>\n      <td>0</td>\n      <td>0</td>\n      <td>0</td>\n      <td>0</td>\n      <td>0</td>\n      <td>0</td>\n    </tr>\n    <tr>\n      <th>7</th>\n      <td>2023-02-23</td>\n      <td>0</td>\n      <td>0</td>\n      <td>0</td>\n      <td>0</td>\n      <td>0</td>\n      <td>0</td>\n      <td>0</td>\n      <td>0</td>\n      <td>0</td>\n      <td>0</td>\n      <td>0</td>\n      <td>0</td>\n      <td>0</td>\n      <td>0</td>\n    </tr>\n    <tr>\n      <th>8</th>\n      <td>2023-02-24</td>\n      <td>0</td>\n      <td>0</td>\n      <td>0</td>\n      <td>0</td>\n      <td>0</td>\n      <td>0</td>\n      <td>0</td>\n      <td>0</td>\n      <td>0</td>\n      <td>0</td>\n      <td>0</td>\n      <td>0</td>\n      <td>0</td>\n      <td>0</td>\n    </tr>\n    <tr>\n      <th>9</th>\n      <td>2023-02-25</td>\n      <td>127</td>\n      <td>156</td>\n      <td>93</td>\n      <td>0</td>\n      <td>13</td>\n      <td>1</td>\n      <td>6</td>\n      <td>2</td>\n      <td>1</td>\n      <td>1</td>\n      <td>0</td>\n      <td>127</td>\n      <td>156</td>\n      <td>93</td>\n    </tr>\n  </tbody>\n</table>\n</div>"
     },
     "execution_count": 47,
     "metadata": {},
     "output_type": "execute_result"
    }
   ],
   "source": [
    "res = hapi.get_data(150,'heart_rate')\n",
    "pd.DataFrame(res)"
   ],
   "metadata": {
    "collapsed": false
   }
  },
  {
   "cell_type": "markdown",
   "source": [
    "## Tools - loaders - corsano_load"
   ],
   "metadata": {
    "collapsed": false
   }
  },
  {
   "cell_type": "code",
   "execution_count": 13,
   "outputs": [],
   "source": [
    "from tools import loaders"
   ],
   "metadata": {
    "collapsed": false
   }
  },
  {
   "cell_type": "code",
   "execution_count": 14,
   "outputs": [],
   "source": [
    "email = secrets['rmasDUuz']['email']\n",
    "password = secrets['rmasDUuz']['password']"
   ],
   "metadata": {
    "collapsed": false
   }
  },
  {
   "cell_type": "code",
   "execution_count": 15,
   "outputs": [
    {
     "name": "stdout",
     "output_type": "stream",
     "text": [
      "{'success': True, 'status': 'Last measurement was 11 day(s) ago on 2023-04-04 with 448 steps and an average heart rate of 76 bpm.', 'activity_data': [{'date': '2023-02-16', 'days_ago': 58, 'active_minutes': 53, 'calories': 1189, 'daily_percent': 69, 'distance': 5138.543, 'move_every_hour': 0, 'total_glasses': None, 'total_steps': 6973, 'workouts': 0}, {'date': '2023-02-17', 'days_ago': 57, 'active_minutes': 1, 'calories': 711, 'daily_percent': 2, 'distance': 1172.231, 'move_every_hour': 0, 'total_glasses': None, 'total_steps': 256, 'workouts': 2}, {'date': '2023-02-18', 'days_ago': 56, 'active_minutes': 3, 'calories': 1630, 'daily_percent': 2, 'distance': 191.5992, 'move_every_hour': 0, 'total_glasses': None, 'total_steps': 260, 'workouts': 2}, {'date': '2023-02-19', 'days_ago': 55, 'active_minutes': 0, 'calories': 1602, 'daily_percent': 0, 'distance': 0, 'move_every_hour': 0, 'total_glasses': None, 'total_steps': 0, 'workouts': 0}, {'date': '2023-02-20', 'days_ago': 54, 'active_minutes': 0, 'calories': 1602, 'daily_percent': 0, 'distance': 0, 'move_every_hour': 0, 'total_glasses': None, 'total_steps': 0, 'workouts': 0}, {'date': '2023-02-21', 'days_ago': 53, 'active_minutes': 0, 'calories': 1602, 'daily_percent': 0, 'distance': 0, 'move_every_hour': 0, 'total_glasses': None, 'total_steps': 0, 'workouts': 0}, {'date': '2023-02-22', 'days_ago': 52, 'active_minutes': 0, 'calories': 1602, 'daily_percent': 0, 'distance': 0, 'move_every_hour': 0, 'total_glasses': None, 'total_steps': 0, 'workouts': 0}, {'date': '2023-02-23', 'days_ago': 51, 'active_minutes': 0, 'calories': 1602, 'daily_percent': 0, 'distance': 0, 'move_every_hour': 0, 'total_glasses': None, 'total_steps': 0, 'workouts': 0}, {'date': '2023-02-24', 'days_ago': 50, 'active_minutes': 0, 'calories': 1602, 'daily_percent': 0, 'distance': 0, 'move_every_hour': 0, 'total_glasses': None, 'total_steps': 0, 'workouts': 0}, {'date': '2023-02-25', 'days_ago': 49, 'active_minutes': 0, 'calories': 1607, 'daily_percent': 0, 'distance': 12.52764, 'move_every_hour': 0, 'total_glasses': None, 'total_steps': 17, 'workouts': 0}, {'date': '2023-02-26', 'days_ago': 48, 'active_minutes': 0, 'calories': 1602, 'daily_percent': 0, 'distance': 0, 'move_every_hour': 0, 'total_glasses': None, 'total_steps': 0, 'workouts': 0}, {'date': '2023-02-27', 'days_ago': 47, 'active_minutes': 0, 'calories': 1602, 'daily_percent': 0, 'distance': 0, 'move_every_hour': 0, 'total_glasses': None, 'total_steps': 0, 'workouts': 0}, {'date': '2023-02-28', 'days_ago': 46, 'active_minutes': 0, 'calories': 1602, 'daily_percent': 0, 'distance': 0, 'move_every_hour': 0, 'total_glasses': None, 'total_steps': 0, 'workouts': 0}, {'date': '2023-03-01', 'days_ago': 45, 'active_minutes': 0, 'calories': 1602, 'daily_percent': 0, 'distance': 0, 'move_every_hour': 0, 'total_glasses': None, 'total_steps': 0, 'workouts': 0}, {'date': '2023-03-02', 'days_ago': 44, 'active_minutes': 0, 'calories': 1602, 'daily_percent': 0, 'distance': 0, 'move_every_hour': 0, 'total_glasses': None, 'total_steps': 0, 'workouts': 0}, {'date': '2023-03-03', 'days_ago': 43, 'active_minutes': 0, 'calories': 1602, 'daily_percent': 0, 'distance': 0, 'move_every_hour': 0, 'total_glasses': None, 'total_steps': 0, 'workouts': 0}, {'date': '2023-03-04', 'days_ago': 42, 'active_minutes': 56, 'calories': 1588, 'daily_percent': 104, 'distance': 7734.7124, 'move_every_hour': 0, 'total_glasses': None, 'total_steps': 10496, 'workouts': 0}, {'date': '2023-03-05', 'days_ago': 41, 'active_minutes': 51, 'calories': 2054, 'daily_percent': 69, 'distance': 5124.542, 'move_every_hour': 0, 'total_glasses': None, 'total_steps': 6954, 'workouts': 0}, {'date': '2023-03-06', 'days_ago': 40, 'active_minutes': 64, 'calories': 2199, 'daily_percent': 111, 'distance': 8215.185, 'move_every_hour': 0, 'total_glasses': None, 'total_steps': 11148, 'workouts': 0}, {'date': '2023-03-07', 'days_ago': 39, 'active_minutes': 38, 'calories': 2419, 'daily_percent': 56, 'distance': 4196.022, 'move_every_hour': 0, 'total_glasses': None, 'total_steps': 5694, 'workouts': 0}, {'date': '2023-03-08', 'days_ago': 38, 'active_minutes': 22, 'calories': 2281, 'daily_percent': 40, 'distance': 2988.2107, 'move_every_hour': 0, 'total_glasses': None, 'total_steps': 4055, 'workouts': 0}, {'date': '2023-03-09', 'days_ago': 37, 'active_minutes': 84, 'calories': 2334, 'daily_percent': 104, 'distance': 7691.234, 'move_every_hour': 0, 'total_glasses': None, 'total_steps': 10437, 'workouts': 0}, {'date': '2023-03-10', 'days_ago': 36, 'active_minutes': 13, 'calories': 953, 'daily_percent': 27, 'distance': 2031.6886, 'move_every_hour': 0, 'total_glasses': None, 'total_steps': 2757, 'workouts': 0}, {'date': '2023-03-11', 'days_ago': 35, 'active_minutes': 38, 'calories': 2010, 'daily_percent': 62, 'distance': 4568.9043, 'move_every_hour': 0, 'total_glasses': None, 'total_steps': 6200, 'workouts': 0}, {'date': '2023-03-12', 'days_ago': 34, 'active_minutes': 73, 'calories': 2216, 'daily_percent': 85, 'distance': 6295.5073, 'move_every_hour': 0, 'total_glasses': None, 'total_steps': 8543, 'workouts': 0}, {'date': '2023-03-13', 'days_ago': 33, 'active_minutes': 0, 'calories': 209, 'daily_percent': 0, 'distance': 2.94768, 'move_every_hour': 0, 'total_glasses': None, 'total_steps': 4, 'workouts': 0}, {'date': '2023-04-03', 'days_ago': 12, 'active_minutes': 0, 'calories': 556, 'daily_percent': 0, 'distance': 0, 'move_every_hour': 0, 'total_glasses': None, 'total_steps': 0, 'workouts': 0}, {'date': '2023-04-04', 'days_ago': 11, 'active_minutes': 2, 'calories': 1118, 'daily_percent': 4, 'distance': 330.14017, 'move_every_hour': 0, 'total_glasses': None, 'total_steps': 448, 'workouts': 0}], 'heart_rate_data': [{'date': '2023-02-16', 'days_ago': 58, 'avg_daily_heart_rate': 78, 'max_daily_heart_rate': 112, 'rest_daily_heart_rate': 55, 'daily_percent': 0, 'all_time': 144, 'max_time': 0, 'performance_time': 0, 'endurance_time': 0, 'fat_burn_time': 7, 'warm_up_time': 34, 'rest_time': 102, 'avg_daily_heat_rate': 78, 'max_daily_heat_rate': 112, 'rest_daily_heat_rate': 55}, {'date': '2023-02-17', 'days_ago': 57, 'avg_daily_heart_rate': 78, 'max_daily_heart_rate': 167, 'rest_daily_heart_rate': 55, 'daily_percent': 0, 'all_time': 16, 'max_time': 0, 'performance_time': 0, 'endurance_time': 0, 'fat_burn_time': 2, 'warm_up_time': 5, 'rest_time': 7, 'avg_daily_heat_rate': 78, 'max_daily_heat_rate': 167, 'rest_daily_heat_rate': 55}, {'date': '2023-02-18', 'days_ago': 56, 'avg_daily_heart_rate': 116, 'max_daily_heart_rate': 117, 'rest_daily_heart_rate': 115, 'daily_percent': 0, 'all_time': 2, 'max_time': 0, 'performance_time': 0, 'endurance_time': 0, 'fat_burn_time': 1, 'warm_up_time': 0, 'rest_time': 0, 'avg_daily_heat_rate': 116, 'max_daily_heat_rate': 117, 'rest_daily_heat_rate': 115}, {'date': '2023-02-19', 'days_ago': 55, 'avg_daily_heart_rate': 0, 'max_daily_heart_rate': 0, 'rest_daily_heart_rate': 0, 'daily_percent': 0, 'all_time': 0, 'max_time': 0, 'performance_time': 0, 'endurance_time': 0, 'fat_burn_time': 0, 'warm_up_time': 0, 'rest_time': 0, 'avg_daily_heat_rate': 0, 'max_daily_heat_rate': 0, 'rest_daily_heat_rate': 0}, {'date': '2023-02-20', 'days_ago': 54, 'avg_daily_heart_rate': 0, 'max_daily_heart_rate': 0, 'rest_daily_heart_rate': 0, 'daily_percent': 0, 'all_time': 0, 'max_time': 0, 'performance_time': 0, 'endurance_time': 0, 'fat_burn_time': 0, 'warm_up_time': 0, 'rest_time': 0, 'avg_daily_heat_rate': 0, 'max_daily_heat_rate': 0, 'rest_daily_heat_rate': 0}, {'date': '2023-02-21', 'days_ago': 53, 'avg_daily_heart_rate': 0, 'max_daily_heart_rate': 0, 'rest_daily_heart_rate': 0, 'daily_percent': 0, 'all_time': 0, 'max_time': 0, 'performance_time': 0, 'endurance_time': 0, 'fat_burn_time': 0, 'warm_up_time': 0, 'rest_time': 0, 'avg_daily_heat_rate': 0, 'max_daily_heat_rate': 0, 'rest_daily_heat_rate': 0}, {'date': '2023-02-22', 'days_ago': 52, 'avg_daily_heart_rate': 0, 'max_daily_heart_rate': 0, 'rest_daily_heart_rate': 0, 'daily_percent': 0, 'all_time': 0, 'max_time': 0, 'performance_time': 0, 'endurance_time': 0, 'fat_burn_time': 0, 'warm_up_time': 0, 'rest_time': 0, 'avg_daily_heat_rate': 0, 'max_daily_heat_rate': 0, 'rest_daily_heat_rate': 0}, {'date': '2023-02-23', 'days_ago': 51, 'avg_daily_heart_rate': 0, 'max_daily_heart_rate': 0, 'rest_daily_heart_rate': 0, 'daily_percent': 0, 'all_time': 0, 'max_time': 0, 'performance_time': 0, 'endurance_time': 0, 'fat_burn_time': 0, 'warm_up_time': 0, 'rest_time': 0, 'avg_daily_heat_rate': 0, 'max_daily_heat_rate': 0, 'rest_daily_heat_rate': 0}, {'date': '2023-02-24', 'days_ago': 50, 'avg_daily_heart_rate': 0, 'max_daily_heart_rate': 0, 'rest_daily_heart_rate': 0, 'daily_percent': 0, 'all_time': 0, 'max_time': 0, 'performance_time': 0, 'endurance_time': 0, 'fat_burn_time': 0, 'warm_up_time': 0, 'rest_time': 0, 'avg_daily_heat_rate': 0, 'max_daily_heat_rate': 0, 'rest_daily_heat_rate': 0}, {'date': '2023-02-25', 'days_ago': 49, 'avg_daily_heart_rate': 127, 'max_daily_heart_rate': 156, 'rest_daily_heart_rate': 93, 'daily_percent': 0, 'all_time': 13, 'max_time': 1, 'performance_time': 6, 'endurance_time': 2, 'fat_burn_time': 1, 'warm_up_time': 1, 'rest_time': 0, 'avg_daily_heat_rate': 127, 'max_daily_heat_rate': 156, 'rest_daily_heat_rate': 93}, {'date': '2023-02-26', 'days_ago': 48, 'avg_daily_heart_rate': 147, 'max_daily_heart_rate': 167, 'rest_daily_heart_rate': 106, 'daily_percent': 0, 'all_time': 6, 'max_time': 3, 'performance_time': 2, 'endurance_time': 0, 'fat_burn_time': 0, 'warm_up_time': 0, 'rest_time': 0, 'avg_daily_heat_rate': 147, 'max_daily_heat_rate': 167, 'rest_daily_heat_rate': 106}, {'date': '2023-02-27', 'days_ago': 47, 'avg_daily_heart_rate': 0, 'max_daily_heart_rate': 0, 'rest_daily_heart_rate': 0, 'daily_percent': 0, 'all_time': 0, 'max_time': 0, 'performance_time': 0, 'endurance_time': 0, 'fat_burn_time': 0, 'warm_up_time': 0, 'rest_time': 0, 'avg_daily_heat_rate': 0, 'max_daily_heat_rate': 0, 'rest_daily_heat_rate': 0}, {'date': '2023-02-28', 'days_ago': 46, 'avg_daily_heart_rate': 0, 'max_daily_heart_rate': 0, 'rest_daily_heart_rate': 0, 'daily_percent': 0, 'all_time': 0, 'max_time': 0, 'performance_time': 0, 'endurance_time': 0, 'fat_burn_time': 0, 'warm_up_time': 0, 'rest_time': 0, 'avg_daily_heat_rate': 0, 'max_daily_heat_rate': 0, 'rest_daily_heat_rate': 0}, {'date': '2023-03-01', 'days_ago': 45, 'avg_daily_heart_rate': 0, 'max_daily_heart_rate': 0, 'rest_daily_heart_rate': 0, 'daily_percent': 0, 'all_time': 0, 'max_time': 0, 'performance_time': 0, 'endurance_time': 0, 'fat_burn_time': 0, 'warm_up_time': 0, 'rest_time': 0, 'avg_daily_heat_rate': 0, 'max_daily_heat_rate': 0, 'rest_daily_heat_rate': 0}, {'date': '2023-03-02', 'days_ago': 44, 'avg_daily_heart_rate': 0, 'max_daily_heart_rate': 0, 'rest_daily_heart_rate': 0, 'daily_percent': 0, 'all_time': 0, 'max_time': 0, 'performance_time': 0, 'endurance_time': 0, 'fat_burn_time': 0, 'warm_up_time': 0, 'rest_time': 0, 'avg_daily_heat_rate': 0, 'max_daily_heat_rate': 0, 'rest_daily_heat_rate': 0}, {'date': '2023-03-03', 'days_ago': 43, 'avg_daily_heart_rate': 0, 'max_daily_heart_rate': 0, 'rest_daily_heart_rate': 0, 'daily_percent': 0, 'all_time': 0, 'max_time': 0, 'performance_time': 0, 'endurance_time': 0, 'fat_burn_time': 0, 'warm_up_time': 0, 'rest_time': 0, 'avg_daily_heat_rate': 0, 'max_daily_heat_rate': 0, 'rest_daily_heat_rate': 0}, {'date': '2023-03-04', 'days_ago': 42, 'avg_daily_heart_rate': 94, 'max_daily_heart_rate': 163, 'rest_daily_heart_rate': 51, 'daily_percent': 0, 'all_time': 90, 'max_time': 1, 'performance_time': 0, 'endurance_time': 2, 'fat_burn_time': 20, 'warm_up_time': 37, 'rest_time': 28, 'avg_daily_heat_rate': 94, 'max_daily_heat_rate': 163, 'rest_daily_heat_rate': 51}, {'date': '2023-03-05', 'days_ago': 41, 'avg_daily_heart_rate': 83, 'max_daily_heart_rate': 125, 'rest_daily_heart_rate': 58, 'daily_percent': 0, 'all_time': 132, 'max_time': 0, 'performance_time': 0, 'endurance_time': 1, 'fat_burn_time': 6, 'warm_up_time': 43, 'rest_time': 81, 'avg_daily_heat_rate': 83, 'max_daily_heat_rate': 125, 'rest_daily_heat_rate': 58}, {'date': '2023-03-06', 'days_ago': 40, 'avg_daily_heart_rate': 82, 'max_daily_heart_rate': 167, 'rest_daily_heart_rate': 53, 'daily_percent': 0, 'all_time': 189, 'max_time': 1, 'performance_time': 5, 'endurance_time': 3, 'fat_burn_time': 11, 'warm_up_time': 35, 'rest_time': 132, 'avg_daily_heat_rate': 82, 'max_daily_heat_rate': 167, 'rest_daily_heat_rate': 53}, {'date': '2023-03-07', 'days_ago': 39, 'avg_daily_heart_rate': 79, 'max_daily_heart_rate': 145, 'rest_daily_heart_rate': 55, 'daily_percent': 0, 'all_time': 256, 'max_time': 0, 'performance_time': 1, 'endurance_time': 1, 'fat_burn_time': 23, 'warm_up_time': 50, 'rest_time': 179, 'avg_daily_heat_rate': 79, 'max_daily_heat_rate': 145, 'rest_daily_heat_rate': 55}, {'date': '2023-03-08', 'days_ago': 38, 'avg_daily_heart_rate': 77, 'max_daily_heart_rate': 145, 'rest_daily_heart_rate': 57, 'daily_percent': 0, 'all_time': 261, 'max_time': 0, 'performance_time': 2, 'endurance_time': 5, 'fat_burn_time': 15, 'warm_up_time': 42, 'rest_time': 195, 'avg_daily_heat_rate': 77, 'max_daily_heat_rate': 145, 'rest_daily_heat_rate': 57}, {'date': '2023-03-09', 'days_ago': 37, 'avg_daily_heart_rate': 75, 'max_daily_heart_rate': 133, 'rest_daily_heart_rate': 48, 'daily_percent': 0, 'all_time': 262, 'max_time': 0, 'performance_time': 0, 'endurance_time': 3, 'fat_burn_time': 15, 'warm_up_time': 43, 'rest_time': 200, 'avg_daily_heat_rate': 75, 'max_daily_heat_rate': 133, 'rest_daily_heat_rate': 48}, {'date': '2023-03-10', 'days_ago': 36, 'avg_daily_heart_rate': 77, 'max_daily_heart_rate': 156, 'rest_daily_heart_rate': 48, 'daily_percent': 0, 'all_time': 92, 'max_time': 0, 'performance_time': 0, 'endurance_time': 1, 'fat_burn_time': 3, 'warm_up_time': 29, 'rest_time': 58, 'avg_daily_heat_rate': 77, 'max_daily_heat_rate': 156, 'rest_daily_heat_rate': 48}, {'date': '2023-03-11', 'days_ago': 35, 'avg_daily_heart_rate': 73, 'max_daily_heart_rate': 140, 'rest_daily_heart_rate': 53, 'daily_percent': 0, 'all_time': 218, 'max_time': 0, 'performance_time': 0, 'endurance_time': 0, 'fat_burn_time': 3, 'warm_up_time': 37, 'rest_time': 176, 'avg_daily_heat_rate': 73, 'max_daily_heat_rate': 140, 'rest_daily_heat_rate': 53}, {'date': '2023-03-12', 'days_ago': 34, 'avg_daily_heart_rate': 76, 'max_daily_heart_rate': 134, 'rest_daily_heart_rate': 59, 'daily_percent': 0, 'all_time': 218, 'max_time': 0, 'performance_time': 0, 'endurance_time': 3, 'fat_burn_time': 15, 'warm_up_time': 28, 'rest_time': 171, 'avg_daily_heat_rate': 76, 'max_daily_heat_rate': 134, 'rest_daily_heat_rate': 59}, {'date': '2023-03-13', 'days_ago': 33, 'avg_daily_heart_rate': 57, 'max_daily_heart_rate': 64, 'rest_daily_heart_rate': 51, 'daily_percent': 0, 'all_time': 41, 'max_time': 0, 'performance_time': 0, 'endurance_time': 0, 'fat_burn_time': 0, 'warm_up_time': 0, 'rest_time': 41, 'avg_daily_heat_rate': 57, 'max_daily_heat_rate': 64, 'rest_daily_heat_rate': 51}, {'date': '2023-04-03', 'days_ago': 12, 'avg_daily_heart_rate': 142, 'max_daily_heart_rate': 147, 'rest_daily_heart_rate': 132, 'daily_percent': 0, 'all_time': 10, 'max_time': 0, 'performance_time': 9, 'endurance_time': 0, 'fat_burn_time': 0, 'warm_up_time': 0, 'rest_time': 0, 'avg_daily_heat_rate': 142, 'max_daily_heat_rate': 147, 'rest_daily_heat_rate': 132}, {'date': '2023-04-04', 'days_ago': 11, 'avg_daily_heart_rate': 76, 'max_daily_heart_rate': 132, 'rest_daily_heart_rate': 57, 'daily_percent': 0, 'all_time': 80, 'max_time': 0, 'performance_time': 0, 'endurance_time': 0, 'fat_burn_time': 0, 'warm_up_time': 12, 'rest_time': 66, 'avg_daily_heat_rate': 76, 'max_daily_heat_rate': 132, 'rest_daily_heat_rate': 57}], 'min_days_ago': 11, 'last_meas_date': '2023-04-04', 'chat_opener': 'Your biomarkers are all within a normal range'}\n"
     ]
    }
   ],
   "source": [
    "res = loaders.corsano_load(email, password,60)\n",
    "print(res)"
   ],
   "metadata": {
    "collapsed": false
   }
  },
  {
   "cell_type": "markdown",
   "source": [
    "## JSONbin"
   ],
   "metadata": {
    "collapsed": false
   }
  },
  {
   "cell_type": "code",
   "execution_count": 7,
   "outputs": [],
   "source": [
    "from tools import jsonbin"
   ],
   "metadata": {
    "collapsed": false
   }
  },
  {
   "cell_type": "code",
   "execution_count": 8,
   "outputs": [],
   "source": [
    "api_key = secrets['jsonbin']['api_key']\n",
    "bin_id = secrets['rmasDUuz']['bin_id']"
   ],
   "metadata": {
    "collapsed": false
   }
  },
  {
   "cell_type": "code",
   "execution_count": 9,
   "outputs": [
    {
     "data": {
      "text/plain": "{'chat': [{'msg': 'reset',\n   'who': 'app',\n   'timestamp': '2023-04-15T00:36:59+02:00',\n   'step': 'step_condition_feedback'},\n  {'msg': 'You seem to be here the first time - welcome to DigiPall!',\n   'who': 'bot',\n   'timestamp': '2023-04-15T00:36:59+02:00',\n   'step': 'step_condition_feedback'},\n  {'msg': 'Today, your pulse seemed to be low / high and you seem to have taken very few steps',\n   'who': 'bot',\n   'timestamp': '2023-04-15T00:36:59+02:00',\n   'step': 'step_condition_feedback'},\n  {'msg': 'Is your general health condition stable today?',\n   'who': 'bot',\n   'timestamp': '2023-04-15T00:36:59+02:00',\n   'step': 'step_condition_feedback'},\n  {'msg': 'Just click below',\n   'who': 'bot',\n   'timestamp': '2023-04-15T00:36:59+02:00',\n   'step': 'step_condition_feedback'},\n  {'msg': 'Yes',\n   'who': 'user',\n   'timestamp': '2023-04-15T00:37:34+02:00',\n   'step': 'step_condition_feedback'},\n  {'msg': 'Do you experience worse/new symptoms?',\n   'who': 'bot',\n   'timestamp': '2023-04-15T00:37:34+02:00',\n   'step': 'step_new_symptoms_feedback'},\n  {'msg': 'Yes',\n   'who': 'user',\n   'timestamp': '2023-04-15T00:37:36+02:00',\n   'step': 'step_new_symptoms_feedback'},\n  {'msg': 'Which of the following symptons is prelevnat/more pronounced?',\n   'who': 'bot',\n   'timestamp': '2023-04-15T00:37:36+02:00',\n   'step': 'step_symptoms_feedback'},\n  {'msg': 'Fever',\n   'who': 'user',\n   'timestamp': '2023-04-15T00:37:39+02:00',\n   'step': 'step_symptoms_feedback'},\n  {'msg': 'Please rate the intensity of the symptom on a scale from 1 to 10.',\n   'who': 'bot',\n   'timestamp': '2023-04-15T00:37:39+02:00',\n   'step': 'step_symptoms_intensity_feedback'},\n  {'msg': '1',\n   'who': 'user',\n   'timestamp': '2023-04-15T00:37:44+02:00',\n   'step': 'step_symptoms_intensity_feedback'},\n  {'msg': '<to be defined>',\n   'who': 'bot',\n   'timestamp': '2023-04-15T00:37:44+02:00',\n   'step': 'step_advice'},\n  {'msg': 'Has the suggestion helped?',\n   'who': 'bot',\n   'timestamp': '2023-04-15T00:37:44+02:00',\n   'step': 'step_advice_feedback'},\n  {'msg': 'Has the suggestion helped?',\n   'who': 'bot',\n   'timestamp': '2023-04-15T00:37:46+02:00',\n   'step': 'step_advice_feedback'},\n  {'msg': 'Suggestion was not carried out',\n   'who': 'user',\n   'timestamp': '2023-04-15T00:37:46+02:00',\n   'step': 'step_advice_feedback'},\n  {'msg': 'Thank you for your feedback. Have a nice day!',\n   'who': 'bot',\n   'timestamp': '2023-04-15T00:37:46+02:00',\n   'step': 'step_end'},\n  {'msg': 'reset',\n   'who': 'app',\n   'timestamp': '2023-04-15T00:37:51+02:00',\n   'step': 'step_condition_feedback'},\n  {'msg': 'Last time, your pulse seemed to be low / high and you seem to have taken very few steps',\n   'who': 'bot',\n   'timestamp': '2023-04-15T00:37:51+02:00',\n   'step': 'step_condition_feedback'},\n  {'msg': 'Today, your pulse seemed to be low / high and you seem to have taken very few steps',\n   'who': 'bot',\n   'timestamp': '2023-04-15T00:37:51+02:00',\n   'step': 'step_condition_feedback'},\n  {'msg': 'Is your general health condition stable today?',\n   'who': 'bot',\n   'timestamp': '2023-04-15T00:37:51+02:00',\n   'step': 'step_condition_feedback'},\n  {'msg': 'Last time you answered: Yes',\n   'who': 'bot',\n   'timestamp': '2023-04-15T00:37:51+02:00',\n   'step': 'step_condition_feedback'},\n  {'msg': 'Yes',\n   'who': 'user',\n   'timestamp': '2023-04-15T00:42:23+02:00',\n   'step': 'step_condition_feedback'},\n  {'msg': 'Do you experience worse/new symptoms?',\n   'who': 'bot',\n   'timestamp': '2023-04-15T00:42:23+02:00',\n   'step': 'step_new_symptoms_feedback'},\n  {'msg': 'No',\n   'who': 'user',\n   'timestamp': '2023-04-15T00:42:28+02:00',\n   'step': 'step_new_symptoms_feedback'},\n  {'msg': 'Thank you for your feedback. Have a nice day!',\n   'who': 'bot',\n   'timestamp': '2023-04-15T00:42:28+02:00',\n   'step': 'step_end'},\n  {'msg': 'reset',\n   'who': 'app',\n   'timestamp': '2023-04-15T00:42:57+02:00',\n   'step': 'step_condition_feedback'},\n  {'msg': 'Last time, your pulse seemed to be low / high and you seem to have taken very few steps',\n   'who': 'bot',\n   'timestamp': '2023-04-15T00:42:57+02:00',\n   'step': 'step_condition_feedback'},\n  {'msg': 'Today, your pulse seemed to be low / high and you seem to have taken very few steps',\n   'who': 'bot',\n   'timestamp': '2023-04-15T00:42:57+02:00',\n   'step': 'step_condition_feedback'},\n  {'msg': 'Is your general health condition stable today?',\n   'who': 'bot',\n   'timestamp': '2023-04-15T00:42:57+02:00',\n   'step': 'step_condition_feedback'},\n  {'msg': 'Last time you answered: Yes',\n   'who': 'bot',\n   'timestamp': '2023-04-15T00:42:57+02:00',\n   'step': 'step_condition_feedback'},\n  {'msg': 'No',\n   'who': 'user',\n   'timestamp': '2023-04-15T01:01:59+02:00',\n   'step': 'step_condition_feedback'},\n  {'msg': 'Which of the following symptons is prelevnat/more pronounced?',\n   'who': 'bot',\n   'timestamp': '2023-04-15T01:01:59+02:00',\n   'step': 'step_symptoms_feedback'},\n  {'msg': 'Fever',\n   'who': 'user',\n   'timestamp': '2023-04-15T01:02:05+02:00',\n   'step': 'step_symptoms_feedback'},\n  {'msg': 'Please rate the intensity of the symptom on a scale from 1 to 10.',\n   'who': 'bot',\n   'timestamp': '2023-04-15T01:02:05+02:00',\n   'step': 'step_symptoms_intensity_feedback'},\n  {'msg': 9,\n   'who': 'user',\n   'timestamp': '2023-04-15T01:02:28+02:00',\n   'step': 'step_symptoms_intensity_feedback'},\n  {'msg': '<to be defined>',\n   'who': 'bot',\n   'timestamp': '2023-04-15T01:02:28+02:00',\n   'step': 'step_advice'},\n  {'msg': 'Has the suggestion helped?',\n   'who': 'bot',\n   'timestamp': '2023-04-15T01:02:28+02:00',\n   'step': 'step_advice_feedback'},\n  {'msg': 'No',\n   'who': 'user',\n   'timestamp': '2023-04-15T01:02:33+02:00',\n   'step': 'step_advice_feedback'},\n  {'msg': 'Thank you for your feedback. Have a nice day!',\n   'who': 'bot',\n   'timestamp': '2023-04-15T01:02:34+02:00',\n   'step': 'step_end'},\n  {'msg': 'reset',\n   'who': 'app',\n   'timestamp': '2023-04-15T01:02:56+02:00',\n   'step': 'step_condition_feedback'},\n  {'msg': 'Last time, your pulse seemed to be low / high and you seem to have taken very few steps',\n   'who': 'bot',\n   'timestamp': '2023-04-15T01:02:56+02:00',\n   'step': 'step_condition_feedback'},\n  {'msg': 'Today, your pulse seemed to be low / high and you seem to have taken very few steps',\n   'who': 'bot',\n   'timestamp': '2023-04-15T01:02:56+02:00',\n   'step': 'step_condition_feedback'},\n  {'msg': 'Is your general health condition stable today?',\n   'who': 'bot',\n   'timestamp': '2023-04-15T01:02:56+02:00',\n   'step': 'step_condition_feedback'},\n  {'msg': 'Last time you answered: No',\n   'who': 'bot',\n   'timestamp': '2023-04-15T01:02:56+02:00',\n   'step': 'step_condition_feedback'},\n  {'msg': 'No',\n   'who': 'user',\n   'timestamp': '2023-04-15T01:03:11+02:00',\n   'step': 'step_condition_feedback'},\n  {'msg': 'Which of the following symptons is prelevnat/more pronounced?',\n   'who': 'bot',\n   'timestamp': '2023-04-15T01:03:11+02:00',\n   'step': 'step_symptoms_feedback'},\n  {'msg': 'reset',\n   'who': 'app',\n   'timestamp': '2023-04-15T01:24:18+02:00',\n   'step': 'step_condition_feedback'},\n  {'msg': 'Last time, your pulse seemed to be low / high and you seem to have taken very few steps',\n   'who': 'bot',\n   'timestamp': '2023-04-15T01:24:18+02:00',\n   'step': 'step_condition_feedback'},\n  {'msg': 'Today, your biomarkers are all within a normal range',\n   'who': 'bot',\n   'timestamp': '2023-04-15T01:24:18+02:00',\n   'step': 'step_condition_feedback'},\n  {'msg': 'Is your general health condition stable today?',\n   'who': 'bot',\n   'timestamp': '2023-04-15T01:24:18+02:00',\n   'step': 'step_condition_feedback'},\n  {'msg': 'Last time you answered: No',\n   'who': 'bot',\n   'timestamp': '2023-04-15T01:24:18+02:00',\n   'step': 'step_condition_feedback'},\n  {'msg': 'reset',\n   'who': 'app',\n   'timestamp': '2023-04-15T01:26:44+02:00',\n   'step': 'step_condition_feedback'},\n  {'msg': 'Last time, your pulse seemed to be low / high and you seem to have taken very few steps',\n   'who': 'bot',\n   'timestamp': '2023-04-15T01:26:44+02:00',\n   'step': 'step_condition_feedback'},\n  {'msg': 'Today, your biomarkers are all within a normal range',\n   'who': 'bot',\n   'timestamp': '2023-04-15T01:26:44+02:00',\n   'step': 'step_condition_feedback'},\n  {'msg': 'Is your general health condition stable today?',\n   'who': 'bot',\n   'timestamp': '2023-04-15T01:26:44+02:00',\n   'step': 'step_condition_feedback'},\n  {'msg': 'Last time you answered: No',\n   'who': 'bot',\n   'timestamp': '2023-04-15T01:26:44+02:00',\n   'step': 'step_condition_feedback'},\n  {'msg': 'No',\n   'who': 'user',\n   'timestamp': '2023-04-15T01:26:54+02:00',\n   'step': 'step_condition_feedback'},\n  {'msg': 'Which of the following symptons is prelevnat/more pronounced?',\n   'who': 'bot',\n   'timestamp': '2023-04-15T01:26:54+02:00',\n   'step': 'step_symptoms_feedback'},\n  {'msg': 'Nausea and/or vomiting',\n   'who': 'user',\n   'timestamp': '2023-04-15T01:26:58+02:00',\n   'step': 'step_symptoms_feedback'},\n  {'msg': 'Please rate the intensity of the symptom on a scale from 1 to 10.',\n   'who': 'bot',\n   'timestamp': '2023-04-15T01:26:58+02:00',\n   'step': 'step_symptoms_intensity_feedback'},\n  {'msg': 'reset',\n   'who': 'app',\n   'timestamp': '2023-04-15T01:27:39+02:00',\n   'step': 'step_condition_feedback'},\n  {'msg': 'Last time, your biomarkers are all within a normal range',\n   'who': 'bot',\n   'timestamp': '2023-04-15T01:27:39+02:00',\n   'step': 'step_condition_feedback'},\n  {'msg': 'Today, your biomarkers are all within a normal range',\n   'who': 'bot',\n   'timestamp': '2023-04-15T01:27:39+02:00',\n   'step': 'step_condition_feedback'},\n  {'msg': 'Is your general health condition stable today?',\n   'who': 'bot',\n   'timestamp': '2023-04-15T01:27:39+02:00',\n   'step': 'step_condition_feedback'},\n  {'msg': 'Last time you answered: No',\n   'who': 'bot',\n   'timestamp': '2023-04-15T01:27:39+02:00',\n   'step': 'step_condition_feedback'},\n  {'msg': 'No',\n   'who': 'user',\n   'timestamp': '2023-04-15T01:27:47+02:00',\n   'step': 'step_condition_feedback'},\n  {'msg': 'Which of the following symptons is prelevnat/more pronounced?',\n   'who': 'bot',\n   'timestamp': '2023-04-15T01:27:47+02:00',\n   'step': 'step_symptoms_feedback'},\n  {'msg': 'reset',\n   'who': 'app',\n   'timestamp': '2023-04-15T01:31:52+02:00',\n   'step': 'step_condition_feedback'},\n  {'msg': 'Last time, your biomarkers are all within a normal range',\n   'who': 'bot',\n   'timestamp': '2023-04-15T01:31:52+02:00',\n   'step': 'step_condition_feedback'},\n  {'msg': 'Today, your biomarkers are all within a normal range',\n   'who': 'bot',\n   'timestamp': '2023-04-15T01:31:52+02:00',\n   'step': 'step_condition_feedback'},\n  {'msg': 'Is your general health condition stable today?',\n   'who': 'bot',\n   'timestamp': '2023-04-15T01:31:52+02:00',\n   'step': 'step_condition_feedback'},\n  {'msg': 'Last time you answered: No',\n   'who': 'bot',\n   'timestamp': '2023-04-15T01:31:52+02:00',\n   'step': 'step_condition_feedback'},\n  {'msg': 'No',\n   'who': 'user',\n   'timestamp': '2023-04-15T01:32:01+02:00',\n   'step': 'step_condition_feedback'},\n  {'msg': 'Which of the following symptons is prelevnat/more pronounced?',\n   'who': 'bot',\n   'timestamp': '2023-04-15T01:32:01+02:00',\n   'step': 'step_symptoms_feedback'},\n  {'msg': 'General weakness',\n   'who': 'user',\n   'timestamp': '2023-04-15T01:32:13+02:00',\n   'step': 'step_symptoms_feedback'},\n  {'msg': 'Please rate the intensity of the symptom on a scale from 1 to 10.',\n   'who': 'bot',\n   'timestamp': '2023-04-15T01:32:13+02:00',\n   'step': 'step_symptoms_intensity_feedback'},\n  {'msg': 8,\n   'who': 'user',\n   'timestamp': '2023-04-15T01:32:21+02:00',\n   'step': 'step_symptoms_intensity_feedback'},\n  {'msg': '<to be defined>',\n   'who': 'bot',\n   'timestamp': '2023-04-15T01:32:21+02:00',\n   'step': 'step_advice'},\n  {'msg': 'Has the suggestion helped?',\n   'who': 'bot',\n   'timestamp': '2023-04-15T01:32:21+02:00',\n   'step': 'step_advice_feedback'},\n  {'msg': 'Suggestion was not carried out',\n   'who': 'user',\n   'timestamp': '2023-04-15T01:32:26+02:00',\n   'step': 'step_advice_feedback'},\n  {'msg': 'Thank you for your feedback. Have a nice day!',\n   'who': 'bot',\n   'timestamp': '2023-04-15T01:32:26+02:00',\n   'step': 'step_end'},\n  {'msg': 'reset',\n   'who': 'app',\n   'timestamp': '2023-04-15T01:32:54+02:00',\n   'step': 'step_condition_feedback'},\n  {'msg': 'Last time, your biomarkers are all within a normal range',\n   'who': 'bot',\n   'timestamp': '2023-04-15T01:32:54+02:00',\n   'step': 'step_condition_feedback'},\n  {'msg': 'Today, your biomarkers are all within a normal range',\n   'who': 'bot',\n   'timestamp': '2023-04-15T01:32:54+02:00',\n   'step': 'step_condition_feedback'},\n  {'msg': 'Is your general health condition stable today?',\n   'who': 'bot',\n   'timestamp': '2023-04-15T01:32:54+02:00',\n   'step': 'step_condition_feedback'},\n  {'msg': 'Last time you answered: No',\n   'who': 'bot',\n   'timestamp': '2023-04-15T01:32:54+02:00',\n   'step': 'step_condition_feedback'},\n  {'msg': 'No',\n   'who': 'user',\n   'timestamp': '2023-04-15T01:35:42+02:00',\n   'step': 'step_condition_feedback'},\n  {'msg': 'Which of the following symptons is prelevnat/more pronounced?',\n   'who': 'bot',\n   'timestamp': '2023-04-15T01:35:42+02:00',\n   'step': 'step_symptoms_feedback'},\n  {'msg': 'Fever',\n   'who': 'user',\n   'timestamp': '2023-04-15T01:35:46+02:00',\n   'step': 'step_symptoms_feedback'},\n  {'msg': 'Please rate the intensity of the symptom on a scale from 1 to 10.',\n   'who': 'bot',\n   'timestamp': '2023-04-15T01:35:46+02:00',\n   'step': 'step_symptoms_intensity_feedback'},\n  {'msg': 3,\n   'who': 'user',\n   'timestamp': '2023-04-15T01:35:53+02:00',\n   'step': 'step_symptoms_intensity_feedback'},\n  {'msg': '<to be defined>',\n   'who': 'bot',\n   'timestamp': '2023-04-15T01:35:53+02:00',\n   'step': 'step_advice'},\n  {'msg': 'Has the suggestion helped?',\n   'who': 'bot',\n   'timestamp': '2023-04-15T01:35:53+02:00',\n   'step': 'step_advice_feedback'},\n  {'msg': 'No',\n   'who': 'user',\n   'timestamp': '2023-04-15T01:35:56+02:00',\n   'step': 'step_advice_feedback'},\n  {'msg': 'Thank you for your feedback. Have a nice day!',\n   'who': 'bot',\n   'timestamp': '2023-04-15T01:35:56+02:00',\n   'step': 'step_end'},\n  {'msg': 'reset',\n   'who': 'app',\n   'timestamp': '2023-04-15T07:50:37+02:00',\n   'step': 'step_condition_feedback'},\n  {'msg': 'Last time, your biomarkers are all within a normal range',\n   'who': 'bot',\n   'timestamp': '2023-04-15T07:50:37+02:00',\n   'step': 'step_condition_feedback'},\n  {'msg': 'Today, your biomarkers are all within a normal range',\n   'who': 'bot',\n   'timestamp': '2023-04-15T07:50:37+02:00',\n   'step': 'step_condition_feedback'},\n  {'msg': 'Is your general health condition stable today?',\n   'who': 'bot',\n   'timestamp': '2023-04-15T07:50:37+02:00',\n   'step': 'step_condition_feedback'},\n  {'msg': 'Last time you answered: No',\n   'who': 'bot',\n   'timestamp': '2023-04-15T07:50:37+02:00',\n   'step': 'step_condition_feedback'},\n  {'msg': 'No',\n   'who': 'user',\n   'timestamp': '2023-04-15T07:50:47+02:00',\n   'step': 'step_condition_feedback'},\n  {'msg': 'Which of the following symptons is prelevnat/more pronounced?',\n   'who': 'bot',\n   'timestamp': '2023-04-15T07:50:47+02:00',\n   'step': 'step_symptoms_feedback'},\n  {'msg': 'Fever',\n   'who': 'user',\n   'timestamp': '2023-04-15T07:50:53+02:00',\n   'step': 'step_symptoms_feedback'},\n  {'msg': 'Please rate the intensity of the symptom on a scale from 1 to 10.',\n   'who': 'bot',\n   'timestamp': '2023-04-15T07:50:54+02:00',\n   'step': 'step_symptoms_intensity_feedback'},\n  {'msg': 3,\n   'who': 'user',\n   'timestamp': '2023-04-15T07:50:59+02:00',\n   'step': 'step_symptoms_intensity_feedback'},\n  {'msg': '<to be defined>',\n   'who': 'bot',\n   'timestamp': '2023-04-15T07:50:59+02:00',\n   'step': 'step_advice'},\n  {'msg': 'Has the suggestion helped?',\n   'who': 'bot',\n   'timestamp': '2023-04-15T07:50:59+02:00',\n   'step': 'step_advice_feedback'},\n  {'msg': 'Yes',\n   'who': 'user',\n   'timestamp': '2023-04-15T07:51:06+02:00',\n   'step': 'step_advice_feedback'},\n  {'msg': 'Thank you for your feedback. Have a nice day!',\n   'who': 'bot',\n   'timestamp': '2023-04-15T07:51:06+02:00',\n   'step': 'step_end'}],\n 'step': 'step_end',\n 'chat_start_time': '2023-04-15T07:50:37+02:00',\n 'locked': True}"
     },
     "execution_count": 9,
     "metadata": {},
     "output_type": "execute_result"
    }
   ],
   "source": [
    "jsonbin.BinAPI(api_key, bin_id).read()"
   ],
   "metadata": {
    "collapsed": false
   }
  },
  {
   "cell_type": "code",
   "execution_count": 74,
   "outputs": [
    {
     "data": {
      "text/plain": "{'record': {'chat': None},\n 'metadata': {'parentId': '6439c6d9c0e7653a05a499b6', 'private': True}}"
     },
     "execution_count": 74,
     "metadata": {},
     "output_type": "execute_result"
    }
   ],
   "source": [
    "jsonbin.BinAPI(api_key, bin_id).update({'chat':None})"
   ],
   "metadata": {
    "collapsed": false
   }
  },
  {
   "cell_type": "code",
   "execution_count": 75,
   "outputs": [
    {
     "data": {
      "text/plain": "{'chat': None}"
     },
     "execution_count": 75,
     "metadata": {},
     "output_type": "execute_result"
    }
   ],
   "source": [
    "jsonbin.BinAPI(api_key, bin_id).read()"
   ],
   "metadata": {
    "collapsed": false
   }
  },
  {
   "cell_type": "code",
   "execution_count": null,
   "outputs": [],
   "source": [],
   "metadata": {
    "collapsed": false
   }
  }
 ],
 "metadata": {
  "kernelspec": {
   "display_name": "Python 3",
   "language": "python",
   "name": "python3"
  },
  "language_info": {
   "codemirror_mode": {
    "name": "ipython",
    "version": 2
   },
   "file_extension": ".py",
   "mimetype": "text/x-python",
   "name": "python",
   "nbconvert_exporter": "python",
   "pygments_lexer": "ipython2",
   "version": "2.7.6"
  }
 },
 "nbformat": 4,
 "nbformat_minor": 0
}
