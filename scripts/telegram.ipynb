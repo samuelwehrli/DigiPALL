{
 "cells": [
  {
   "cell_type": "markdown",
   "source": [
    "https://www.geeksforgeeks.org/create-a-telegram-bot-using-python/\n",
    "https://github.com/python-telegram-bot/python-telegram-bot/wiki/Extensions---Your-first-Bot\n"
   ],
   "metadata": {
    "collapsed": false
   }
  },
  {
   "cell_type": "code",
   "execution_count": 25,
   "outputs": [],
   "source": [
    "import telegram\n",
    "\n",
    "# Replace YOUR_BOT_TOKEN with your actual bot token\n",
    "bot = telegram.Bot(token=TOKEN)"
   ],
   "metadata": {
    "collapsed": false
   }
  },
  {
   "cell_type": "code",
   "execution_count": 26,
   "outputs": [
    {
     "data": {
      "text/plain": "<coroutine object Bot.send_message at 0x000001BE8EEFDC40>"
     },
     "execution_count": 26,
     "metadata": {},
     "output_type": "execute_result"
    }
   ],
   "source": [
    "\n",
    "\n",
    "# Replace CHAT_ID with the chat ID of the user or group you want to send a message to\n",
    "bot.sendMessage(chat_id=chat_id, text=\"Hello world!\")"
   ],
   "metadata": {
    "collapsed": false
   }
  },
  {
   "cell_type": "code",
   "execution_count": 14,
   "outputs": [
    {
     "name": "stdout",
     "output_type": "stream",
     "text": [
      "{'ok': True, 'result': [{'update_id': 34690311, 'message': {'message_id': 3, 'from': {'id': 6250674071, 'is_bot': False, 'first_name': 'Samuel', 'last_name': 'Wehrli', 'language_code': 'de'}, 'chat': {'id': 6250674071, 'first_name': 'Samuel', 'last_name': 'Wehrli', 'type': 'private'}, 'date': 1680634693, 'text': 'Test'}}, {'update_id': 34690312, 'message': {'message_id': 4, 'from': {'id': 6250674071, 'is_bot': False, 'first_name': 'Samuel', 'last_name': 'Wehrli', 'language_code': 'de'}, 'chat': {'id': 6250674071, 'first_name': 'Samuel', 'last_name': 'Wehrli', 'type': 'private'}, 'date': 1680634869, 'text': 'Adbatbatn'}}]}\n"
     ]
    }
   ],
   "source": [
    "import requests\n",
    "url = f\"https://api.telegram.org/bot{TOKEN}/getUpdates\"\n",
    "print(requests.get(url).json())"
   ],
   "metadata": {
    "collapsed": false
   }
  },
  {
   "cell_type": "code",
   "execution_count": 16,
   "outputs": [
    {
     "name": "stdout",
     "output_type": "stream",
     "text": [
      "{'ok': True, 'result': {'message_id': 5, 'from': {'id': 6087252711, 'is_bot': True, 'first_name': 'digipall', 'username': 'digipall_bot'}, 'chat': {'id': 6250674071, 'first_name': 'Samuel', 'last_name': 'Wehrli', 'type': 'private'}, 'date': 1680635419, 'text': 'hello from your telegram bot'}}\n"
     ]
    }
   ],
   "source": [
    "message = \"hello from your telegram bot\"\n",
    "url = f\"https://api.telegram.org/bot{TOKEN}/sendMessage?chat_id={chat_id}&text={message}\"\n",
    "print(requests.get(url).json()) # this sends the message"
   ],
   "metadata": {
    "collapsed": false
   }
  },
  {
   "cell_type": "code",
   "execution_count": 23,
   "outputs": [
    {
     "name": "stdout",
     "output_type": "stream",
     "text": [
      "{'ok': True, 'result': {'message_id': 17, 'from': {'id': 6087252711, 'is_bot': True, 'first_name': 'digipall', 'username': 'digipall_bot'}, 'chat': {'id': 6250674071, 'first_name': 'Samuel', 'last_name': 'Wehrli', 'type': 'private'}, 'date': 1680636064, 'text': 'Please choose an option:'}}\n"
     ]
    }
   ],
   "source": [
    "import requests\n",
    "import json\n",
    "\n",
    "# Create the keyboard buttons\n",
    "button1 = {'text': 'yes'}\n",
    "button2 = {'text': 'no'}\n",
    "\n",
    "# Create the keyboard and add the buttons to it\n",
    "keyboard = [[button1, button2]]\n",
    "reply_markup = {'keyboard': keyboard, 'resize_keyboard': True}\n",
    "\n",
    "# Construct the message payload\n",
    "payload = {\n",
    "    'chat_id': chat_id,\n",
    "    'text': 'Please choose an option:',\n",
    "    'reply_markup': json.dumps(reply_markup),\n",
    "}\n",
    "\n",
    "# Send the message with the keyboard\n",
    "url = f'https://api.telegram.org/bot{TOKEN}/sendMessage'\n",
    "response = requests.post(url, data=payload)\n",
    "\n",
    "# Check the response\n",
    "print(response.json())"
   ],
   "metadata": {
    "collapsed": false
   }
  },
  {
   "cell_type": "code",
   "execution_count": 27,
   "outputs": [
    {
     "ename": "ImportError",
     "evalue": "cannot import name 'Filters' from 'telegram.ext' (C:\\Users\\wehs\\Anaconda3\\envs\\py38\\lib\\site-packages\\telegram\\ext\\__init__.py)",
     "output_type": "error",
     "traceback": [
      "\u001B[1;31m---------------------------------------------------------------------------\u001B[0m",
      "\u001B[1;31mImportError\u001B[0m                               Traceback (most recent call last)",
      "Cell \u001B[1;32mIn[27], line 16\u001B[0m\n\u001B[0;32m      1\u001B[0m \u001B[38;5;124;03m\"\"\"\u001B[39;00m\n\u001B[0;32m      2\u001B[0m \u001B[38;5;124;03mSimple Bot to reply to Telegram messages.\u001B[39;00m\n\u001B[0;32m      3\u001B[0m \n\u001B[1;32m   (...)\u001B[0m\n\u001B[0;32m     11\u001B[0m \u001B[38;5;124;03mbot.\u001B[39;00m\n\u001B[0;32m     12\u001B[0m \u001B[38;5;124;03m\"\"\"\u001B[39;00m\n\u001B[0;32m     14\u001B[0m \u001B[38;5;28;01mimport\u001B[39;00m \u001B[38;5;21;01mlogging\u001B[39;00m\n\u001B[1;32m---> 16\u001B[0m \u001B[38;5;28;01mfrom\u001B[39;00m \u001B[38;5;21;01mtelegram\u001B[39;00m\u001B[38;5;21;01m.\u001B[39;00m\u001B[38;5;21;01mext\u001B[39;00m \u001B[38;5;28;01mimport\u001B[39;00m Updater, CommandHandler, MessageHandler, Filters\n\u001B[0;32m     18\u001B[0m \u001B[38;5;66;03m# Enable logging\u001B[39;00m\n\u001B[0;32m     19\u001B[0m logging\u001B[38;5;241m.\u001B[39mbasicConfig(\u001B[38;5;28mformat\u001B[39m\u001B[38;5;241m=\u001B[39m\u001B[38;5;124m'\u001B[39m\u001B[38;5;132;01m%(asctime)s\u001B[39;00m\u001B[38;5;124m - \u001B[39m\u001B[38;5;132;01m%(name)s\u001B[39;00m\u001B[38;5;124m - \u001B[39m\u001B[38;5;132;01m%(levelname)s\u001B[39;00m\u001B[38;5;124m - \u001B[39m\u001B[38;5;132;01m%(message)s\u001B[39;00m\u001B[38;5;124m'\u001B[39m,\n\u001B[0;32m     20\u001B[0m                     level\u001B[38;5;241m=\u001B[39mlogging\u001B[38;5;241m.\u001B[39mINFO)\n",
      "\u001B[1;31mImportError\u001B[0m: cannot import name 'Filters' from 'telegram.ext' (C:\\Users\\wehs\\Anaconda3\\envs\\py38\\lib\\site-packages\\telegram\\ext\\__init__.py)"
     ]
    }
   ],
   "source": [
    "\"\"\"\n",
    "Simple Bot to reply to Telegram messages.\n",
    "\n",
    "First, a few handler functions are defined. Then, those functions are passed to\n",
    "the Dispatcher and registered at their respective places.\n",
    "Then, the bot is started and runs until we press Ctrl-C on the command line.\n",
    "\n",
    "Usage:\n",
    "Basic Echobot example, repeats messages.\n",
    "Press Ctrl-C on the command line or send a signal to the process to stop the\n",
    "bot.\n",
    "\"\"\"\n",
    "\n",
    "import logging\n",
    "\n",
    "from telegram.ext import Updater, CommandHandler, MessageHandler, Filters\n",
    "\n",
    "# Enable logging\n",
    "logging.basicConfig(format='%(asctime)s - %(name)s - %(levelname)s - %(message)s',\n",
    "                    level=logging.INFO)\n",
    "\n",
    "logger = logging.getLogger(__name__)\n",
    "\n",
    "\n",
    "# Define a few command handlers. These usually take the two arguments update and\n",
    "# context. Error handlers also receive the raised TelegramError object in error.\n",
    "def start(update, context):\n",
    "    \"\"\"Send a message when the command /start is issued.\"\"\"\n",
    "    update.message.reply_text('Hi!')\n",
    "\n",
    "\n",
    "def help(update, context):\n",
    "    \"\"\"Send a message when the command /help is issued.\"\"\"\n",
    "    update.message.reply_text('Help!')\n",
    "\n",
    "\n",
    "def echo(update, context):\n",
    "    \"\"\"Echo the user message.\"\"\"\n",
    "    update.message.reply_text(update.message.text)\n",
    "\n",
    "\n",
    "def error(update, context):\n",
    "    \"\"\"Log Errors caused by Updates.\"\"\"\n",
    "    logger.warning('Update \"%s\" caused error \"%s\"', update, context.error)\n",
    "\n",
    "\n",
    "def main():\n",
    "    \"\"\"Start the bot.\"\"\"\n",
    "    # Create the Updater and pass it your bot's token.\n",
    "    # Make sure to set use_context=True to use the new context based callbacks\n",
    "    # Post version 12 this will no longer be necessary\n",
    "    updater = Updater(TOKEN, use_context=True)\n",
    "\n",
    "    # Get the dispatcher to register handlers\n",
    "    dp = updater.dispatcher\n",
    "\n",
    "    # on different commands - answer in Telegram\n",
    "    dp.add_handler(CommandHandler(\"start\", start))\n",
    "    dp.add_handler(CommandHandler(\"help\", help))\n",
    "\n",
    "    # on noncommand i.e message - echo the message on Telegram\n",
    "    dp.add_handler(MessageHandler(Filters.text, echo))\n",
    "\n",
    "    # log all errors\n",
    "    dp.add_error_handler(error)\n",
    "\n",
    "    # Start the Bot\n",
    "    updater.start_polling()\n",
    "\n",
    "    # Run the bot until you press Ctrl-C or the process receives SIGINT,\n",
    "    # SIGTERM or SIGABRT. This should be used most of the time, since\n",
    "    # start_polling() is non-blocking and will stop the bot gracefully.\n",
    "    updater.idle()\n",
    "\n",
    "\n",
    "if __name__ == '__main__':\n",
    "    main()"
   ],
   "metadata": {
    "collapsed": false
   }
  },
  {
   "cell_type": "code",
   "execution_count": 28,
   "outputs": [
    {
     "ename": "ModuleNotFoundError",
     "evalue": "No module named 'telegram.ext.updater'",
     "output_type": "error",
     "traceback": [
      "\u001B[1;31m---------------------------------------------------------------------------\u001B[0m",
      "\u001B[1;31mModuleNotFoundError\u001B[0m                       Traceback (most recent call last)",
      "Cell \u001B[1;32mIn[28], line 1\u001B[0m\n\u001B[1;32m----> 1\u001B[0m \u001B[38;5;28;01mfrom\u001B[39;00m \u001B[38;5;21;01mtelegram\u001B[39;00m\u001B[38;5;21;01m.\u001B[39;00m\u001B[38;5;21;01mext\u001B[39;00m\u001B[38;5;21;01m.\u001B[39;00m\u001B[38;5;21;01mupdater\u001B[39;00m \u001B[38;5;28;01mimport\u001B[39;00m Updater\n\u001B[0;32m      2\u001B[0m \u001B[38;5;28;01mfrom\u001B[39;00m \u001B[38;5;21;01mtelegram\u001B[39;00m\u001B[38;5;21;01m.\u001B[39;00m\u001B[38;5;21;01mupdate\u001B[39;00m \u001B[38;5;28;01mimport\u001B[39;00m Update\n\u001B[0;32m      3\u001B[0m \u001B[38;5;28;01mfrom\u001B[39;00m \u001B[38;5;21;01mtelegram\u001B[39;00m\u001B[38;5;21;01m.\u001B[39;00m\u001B[38;5;21;01mext\u001B[39;00m\u001B[38;5;21;01m.\u001B[39;00m\u001B[38;5;21;01mcallbackcontext\u001B[39;00m \u001B[38;5;28;01mimport\u001B[39;00m CallbackContext\n",
      "\u001B[1;31mModuleNotFoundError\u001B[0m: No module named 'telegram.ext.updater'"
     ]
    }
   ],
   "source": [
    "from telegram.ext.updater import Updater\n",
    "from telegram.update import Update\n",
    "from telegram.ext.callbackcontext import CallbackContext\n",
    "from telegram.ext.commandhandler import CommandHandler\n",
    "from telegram.ext.messagehandler import MessageHandler\n",
    "from telegram.ext.filters import Filters\n",
    "\n",
    "updater = Updater(TOKEN,\n",
    "                  use_context=True)\n",
    "\n",
    "\n",
    "def start(update: Update, context: CallbackContext):\n",
    "    update.message.reply_text(\n",
    "        \"Hello sir, Welcome to the Bot.Please write\\\n",
    "        /help to see the commands available.\")\n",
    "\n",
    "def help(update: Update, context: CallbackContext):\n",
    "    update.message.reply_text(\"\"\"Available Commands :-\n",
    "    /youtube - To get the youtube URL\n",
    "    /linkedin - To get the LinkedIn profile URL\n",
    "    /gmail - To get gmail URL\n",
    "    /geeks - To get the GeeksforGeeks URL\"\"\")\n",
    "\n",
    "\n",
    "def gmail_url(update: Update, context: CallbackContext):\n",
    "    update.message.reply_text(\n",
    "        \"Your gmail link here (I am not\\\n",
    "        giving mine one for security reasons)\")\n",
    "\n",
    "\n",
    "def youtube_url(update: Update, context: CallbackContext):\n",
    "    update.message.reply_text(\"Youtube Link =>\\\n",
    "    https://www.youtube.com/\")\n",
    "\n",
    "\n",
    "def linkedIn_url(update: Update, context: CallbackContext):\n",
    "    update.message.reply_text(\n",
    "        \"LinkedIn URL => \\\n",
    "        https://www.linkedin.com/in/dwaipayan-bandyopadhyay-007a/\")\n",
    "\n",
    "\n",
    "def geeks_url(update: Update, context: CallbackContext):\n",
    "    update.message.reply_text(\n",
    "        \"GeeksforGeeks URL => https://www.geeksforgeeks.org/\")\n",
    "\n",
    "\n",
    "def unknown(update: Update, context: CallbackContext):\n",
    "    update.message.reply_text(\n",
    "        \"Sorry '%s' is not a valid command\" % update.message.text)\n",
    "\n",
    "\n",
    "def unknown_text(update: Update, context: CallbackContext):\n",
    "    update.message.reply_text(\n",
    "        \"Sorry I can't recognize you , you said '%s'\" % update.message.text)\n",
    "\n",
    "\n",
    "updater.dispatcher.add_handler(CommandHandler('start', start))\n",
    "updater.dispatcher.add_handler(CommandHandler('youtube', youtube_url))\n",
    "updater.dispatcher.add_handler(CommandHandler('help', help))\n",
    "updater.dispatcher.add_handler(CommandHandler('linkedin', linkedIn_url))\n",
    "updater.dispatcher.add_handler(CommandHandler('gmail', gmail_url))\n",
    "updater.dispatcher.add_handler(CommandHandler('geeks', geeks_url))\n",
    "updater.dispatcher.add_handler(MessageHandler(Filters.text, unknown))\n",
    "updater.dispatcher.add_handler(MessageHandler(\n",
    "    Filters.command, unknown))  # Filters out unknown commands\n",
    "\n",
    "# Filters out unknown messages.\n",
    "updater.dispatcher.add_handler(MessageHandler(Filters.text, unknown_text))\n",
    "\n",
    "updater.start_polling()"
   ],
   "metadata": {
    "collapsed": false
   }
  },
  {
   "cell_type": "code",
   "execution_count": null,
   "outputs": [],
   "source": [],
   "metadata": {
    "collapsed": false
   }
  }
 ],
 "metadata": {
  "kernelspec": {
   "display_name": "Python 3",
   "language": "python",
   "name": "python3"
  },
  "language_info": {
   "codemirror_mode": {
    "name": "ipython",
    "version": 2
   },
   "file_extension": ".py",
   "mimetype": "text/x-python",
   "name": "python",
   "nbconvert_exporter": "python",
   "pygments_lexer": "ipython2",
   "version": "2.7.6"
  }
 },
 "nbformat": 4,
 "nbformat_minor": 0
}
